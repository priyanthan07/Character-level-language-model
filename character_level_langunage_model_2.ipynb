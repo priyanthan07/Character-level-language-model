{
 "cells": [
  {
   "cell_type": "markdown",
   "metadata": {},
   "source": [
    "## Dependencies"
   ]
  },
  {
   "cell_type": "code",
   "execution_count": 1,
   "metadata": {},
   "outputs": [],
   "source": [
    "import random\n",
    "import torch\n",
    "import torch.nn.functional as F\n",
    "import matplotlib.pyplot as plt\n",
    "\n",
    "%matplotlib inline"
   ]
  },
  {
   "cell_type": "code",
   "execution_count": 2,
   "metadata": {},
   "outputs": [
    {
     "data": {
      "text/plain": [
       "49061"
      ]
     },
     "execution_count": 2,
     "metadata": {},
     "output_type": "execute_result"
    }
   ],
   "source": [
    "words = open('data.txt', 'r').read().split()\n",
    "len(words)"
   ]
  },
  {
   "cell_type": "code",
   "execution_count": 3,
   "metadata": {},
   "outputs": [
    {
     "data": {
      "text/plain": [
       "['You', 'ever']"
      ]
     },
     "execution_count": 3,
     "metadata": {},
     "output_type": "execute_result"
    }
   ],
   "source": [
    "words[:2]"
   ]
  },
  {
   "cell_type": "code",
   "execution_count": 4,
   "metadata": {},
   "outputs": [],
   "source": [
    "ctoi = {ch : i for i, ch in enumerate(sorted(set(\"\".join(words))))}\n",
    "itoc = {v:k for k, v in ctoi.items()}\n",
    "Vocab_size = len(itoc)"
   ]
  },
  {
   "cell_type": "markdown",
   "metadata": {},
   "source": [
    "### Data preprocess"
   ]
  },
  {
   "cell_type": "code",
   "execution_count": 5,
   "metadata": {},
   "outputs": [
    {
     "name": "stdout",
     "output_type": "stream",
     "text": [
      "torch.Size([194724, 3]) torch.Size([194724])\n",
      "torch.Size([24510, 3]) torch.Size([24510])\n",
      "torch.Size([24354, 3]) torch.Size([24354])\n"
     ]
    }
   ],
   "source": [
    "block_size = 3 # context length: how many characters do we take to predict the next one?\n",
    "\n",
    "def build_dataset(words):  \n",
    "  X, Y = [], []\n",
    "  for w in words:\n",
    "\n",
    "    #print(w)\n",
    "    context = [0] * block_size\n",
    "    for ch in w + '.':\n",
    "      ix = ctoi[ch]\n",
    "      X.append(context)\n",
    "      Y.append(ix)\n",
    "      context = context[1:] + [ix] # crop and append\n",
    "\n",
    "  X = torch.tensor(X)\n",
    "  Y = torch.tensor(Y)\n",
    "  print(X.shape, Y.shape)\n",
    "  return X, Y\n",
    "\n",
    "import random\n",
    "random.seed(42)\n",
    "random.shuffle(words)\n",
    "n1 = int(0.8*len(words))\n",
    "n2 = int(0.9*len(words))\n",
    "\n",
    "Xtr, Ytr = build_dataset(words[:n1])\n",
    "Xdev, Ydev = build_dataset(words[n1:n2])\n",
    "Xte, Yte = build_dataset(words[n2:])"
   ]
  },
  {
   "cell_type": "markdown",
   "metadata": {},
   "source": [
    "## Parameters random initialization "
   ]
  },
  {
   "cell_type": "code",
   "execution_count": 6,
   "metadata": {},
   "outputs": [
    {
     "name": "stdout",
     "output_type": "stream",
     "text": [
      "number of parameters : 90758\n"
     ]
    }
   ],
   "source": [
    "n_embd = 10\n",
    "n_hidden_1 = 200\n",
    "n_hidden_2 = 300\n",
    "\n",
    "# parameters\n",
    "gen = torch.Generator().manual_seed(2147483647)\n",
    "Cntx = torch.randn((Vocab_size,n_embd), generator=gen)   \n",
    "W1 = torch.randn((n_embd*block_size, n_hidden_1), generator=gen) \n",
    "B1 = torch.randn(n_hidden_1, generator=gen)\n",
    "W2 = torch.randn((n_hidden_1, n_hidden_2), generator=gen)\n",
    "B2 = torch.randn((n_hidden_2), generator=gen)\n",
    "W3 = torch.randn((n_hidden_2, Vocab_size), generator=gen)\n",
    "B3 = torch.randn((Vocab_size), generator=gen)\n",
    "\n",
    "parameters = [Cntx, W1, B1, W2, B2, W3, B3]\n",
    "print(f\"number of parameters : {sum(parameter.nelement() for parameter in parameters)}\")\n",
    "\n",
    "for p in parameters:\n",
    "    p.requires_grad = True"
   ]
  },
  {
   "cell_type": "code",
   "execution_count": 8,
   "metadata": {},
   "outputs": [
    {
     "name": "stdout",
     "output_type": "stream",
     "text": [
      "      0/ 200000: 35.8265\n",
      "  10000/ 200000: 2.0799\n",
      "  20000/ 200000: 2.3376\n",
      "  30000/ 200000: 2.1318\n",
      "  40000/ 200000: 2.0884\n",
      "  50000/ 200000: 1.8440\n",
      "  60000/ 200000: 2.7863\n",
      "  70000/ 200000: 2.1013\n",
      "  80000/ 200000: 1.9978\n",
      "  90000/ 200000: 1.7518\n",
      " 100000/ 200000: 1.5079\n",
      " 110000/ 200000: 1.9037\n",
      " 120000/ 200000: 1.7396\n",
      " 130000/ 200000: 2.0653\n",
      " 140000/ 200000: 1.5651\n",
      " 150000/ 200000: 1.6914\n",
      " 160000/ 200000: 2.0533\n",
      " 170000/ 200000: 1.3220\n",
      " 180000/ 200000: 1.1270\n",
      " 190000/ 200000: 2.0937\n"
     ]
    }
   ],
   "source": [
    "max_steps = 200000\n",
    "batch_size = 32\n",
    "losses = []\n",
    "\n",
    "\n",
    "for i in range(max_steps):\n",
    "    \n",
    "    idx = torch.randint(0, Xtr.shape[0], (batch_size,), generator=gen)\n",
    "    Xb , Yb = Xtr[idx], Ytr[idx]\n",
    "    \n",
    "    embd = Cntx[Xb]\n",
    "    embcat = embd.view(embd.shape[0], -1)\n",
    "    \n",
    "    # first layer\n",
    "    hpreact_1 = (embcat @ W1) + B1\n",
    "    \n",
    "    # second layer\n",
    "    h_1 = torch.tanh(hpreact_1)\n",
    "    hpreact_2 = (h_1 @ W2) + B2\n",
    "    h_2 = torch.tanh(hpreact_2)\n",
    "    \n",
    "    # third layer\n",
    "    logits = (h_2 @ W3) + B3\n",
    "    loss = F.cross_entropy(logits, Yb)\n",
    "    \n",
    "    for p in parameters:\n",
    "        p.grad = None\n",
    "        \n",
    "    loss.backward()\n",
    "    \n",
    "    lr = 0.1 if i<100000 else 0.01 # learning rate decay\n",
    "\n",
    "    # update parameters\n",
    "    for p in parameters:\n",
    "        p.data += -lr * p.grad\n",
    "        \n",
    "    if i % 10000 == 0:\n",
    "        print(f'{i:7d}/{max_steps:7d}: {loss.item():.4f}')\n",
    "        \n",
    "    losses.append(loss.log10().item())\n"
   ]
  },
  {
   "cell_type": "code",
   "execution_count": 9,
   "metadata": {},
   "outputs": [
    {
     "data": {
      "text/plain": [
       "[<matplotlib.lines.Line2D at 0x1dfca1c83d0>]"
      ]
     },
     "execution_count": 9,
     "metadata": {},
     "output_type": "execute_result"
    },
    {
     "data": {
      "image/png": "[encoded data removed]",
      "text/plain": [
       "<Figure size 640x480 with 1 Axes>"
      ]
     },
     "metadata": {},
     "output_type": "display_data"
    }
   ],
   "source": [
    "plt.plot(losses)"
   ]
  },
  {
   "cell_type": "code",
   "execution_count": 10,
   "metadata": {},
   "outputs": [
    {
     "name": "stdout",
     "output_type": "stream",
     "text": [
      "train 1.596331238746643\n",
      "val 1.6905174255371094\n"
     ]
    }
   ],
   "source": [
    "@torch.no_grad()\n",
    "def split_loss(split):\n",
    "    x,y = {\n",
    "        'train': (Xtr, Ytr),\n",
    "        'val' : (Xdev, Ydev),\n",
    "        'test' : (Xte, Yte),\n",
    "    }[split]\n",
    "    emb = Cntx[x]\n",
    "    embcat = emb.view(emb.shape[0], -1)\n",
    "    hpreact_1 = (embcat @ W1) + B1\n",
    "    \n",
    "    h_1 = torch.tanh(hpreact_1)\n",
    "    hpreact_2 = (h_1 @ W2) + B2\n",
    "    h_2 = torch.tanh(hpreact_2)\n",
    "    \n",
    "    logits = (h_2 @ W3) + B3\n",
    "    loss = F.cross_entropy(logits, y)\n",
    "    print(split, loss.item())\n",
    "    \n",
    "split_loss('train')\n",
    "split_loss('val')"
   ]
  },
  {
   "cell_type": "markdown",
   "metadata": {},
   "source": [
    "#### Initially the logits are larger values so there gives false confident predictions during training. So we need to keep the logits values nearly zero then it will learn efficientsly. "
   ]
  },
  {
   "cell_type": "code",
   "execution_count": 12,
   "metadata": {},
   "outputs": [
    {
     "name": "stdout",
     "output_type": "stream",
     "text": [
      "number of parameters : 90758\n"
     ]
    }
   ],
   "source": [
    "n_embd = 10\n",
    "n_hidden_1 = 200\n",
    "n_hidden_2 = 300\n",
    "\n",
    "# parameters\n",
    "gen = torch.Generator().manual_seed(2147483647)\n",
    "Cntx = torch.randn((Vocab_size,n_embd), generator=gen)   \n",
    "W1 = torch.randn((n_embd*block_size, n_hidden_1), generator=gen) \n",
    "B1 = torch.randn(n_hidden_1, generator=gen)\n",
    "W2 = torch.randn((n_hidden_1, n_hidden_2), generator=gen)\n",
    "B2 = torch.randn((n_hidden_2), generator=gen)\n",
    "W3 = torch.randn((n_hidden_2, Vocab_size), generator=gen) * 0.01\n",
    "B3 = torch.randn((Vocab_size), generator=gen) * 0\n",
    "\n",
    "parameters = [Cntx, W1, B1, W2, B2, W3, B3]\n",
    "print(f\"number of parameters : {sum(parameter.nelement() for parameter in parameters)}\")\n",
    "\n",
    "for p in parameters:\n",
    "    p.requires_grad = True"
   ]
  },
  {
   "cell_type": "markdown",
   "metadata": {},
   "source": [
    "#### So During initialization we need to scale down the weights at the same time bias are initializaed as zeros. Otherwise in the training process initially model squashes the weights and after thatit  starts to learn."
   ]
  },
  {
   "cell_type": "markdown",
   "metadata": {},
   "source": [
    "#### weights cannot to be initialized as zeros. "
   ]
  },
  {
   "cell_type": "code",
   "execution_count": 13,
   "metadata": {},
   "outputs": [
    {
     "name": "stdout",
     "output_type": "stream",
     "text": [
      "      0/ 200000: 4.3631\n",
      "  10000/ 200000: 1.6277\n",
      "  20000/ 200000: 1.2379\n",
      "  30000/ 200000: 1.7699\n",
      "  40000/ 200000: 1.5112\n",
      "  50000/ 200000: 1.5030\n",
      "  60000/ 200000: 1.9510\n",
      "  70000/ 200000: 2.0139\n",
      "  80000/ 200000: 1.5597\n",
      "  90000/ 200000: 2.2384\n",
      " 100000/ 200000: 1.3003\n",
      " 110000/ 200000: 1.5999\n",
      " 120000/ 200000: 1.3906\n",
      " 130000/ 200000: 1.6202\n",
      " 140000/ 200000: 2.1868\n",
      " 150000/ 200000: 1.7466\n",
      " 160000/ 200000: 1.5647\n",
      " 170000/ 200000: 1.4853\n",
      " 180000/ 200000: 1.8499\n",
      " 190000/ 200000: 1.3395\n"
     ]
    }
   ],
   "source": [
    "max_steps = 200000\n",
    "batch_size = 32\n",
    "losses = []\n",
    "\n",
    "\n",
    "for i in range(max_steps):\n",
    "    \n",
    "    idx = torch.randint(0, Xtr.shape[0], (batch_size,), generator=gen)\n",
    "    Xb , Yb = Xtr[idx], Ytr[idx]\n",
    "    \n",
    "    embd = Cntx[Xb]\n",
    "    embcat = embd.view(embd.shape[0], -1)\n",
    "    \n",
    "    # first layer\n",
    "    hpreact_1 = (embcat @ W1) + B1\n",
    "    \n",
    "    # second layer\n",
    "    h_1 = torch.tanh(hpreact_1)\n",
    "    hpreact_2 = (h_1 @ W2) + B2\n",
    "    h_2 = torch.tanh(hpreact_2)\n",
    "    \n",
    "    # third layer\n",
    "    logits = (h_2 @ W3) + B3\n",
    "    loss = F.cross_entropy(logits, Yb)\n",
    "    \n",
    "    for p in parameters:\n",
    "        p.grad = None\n",
    "        \n",
    "    loss.backward()\n",
    "    \n",
    "    lr = 0.1 if i<100000 else 0.01 # learning rate decay\n",
    "\n",
    "    # update parameters\n",
    "    for p in parameters:\n",
    "        p.data += -lr * p.grad\n",
    "        \n",
    "    if i % 10000 == 0:\n",
    "        print(f'{i:7d}/{max_steps:7d}: {loss.item():.4f}')\n",
    "        \n",
    "    losses.append(loss.log10().item())\n"
   ]
  },
  {
   "cell_type": "code",
   "execution_count": 14,
   "metadata": {},
   "outputs": [
    {
     "data": {
      "text/plain": [
       "[<matplotlib.lines.Line2D at 0x1dfc99ba150>]"
      ]
     },
     "execution_count": 14,
     "metadata": {},
     "output_type": "execute_result"
    },
    {
     "data": {
      "image/png": "[encoded data removed]",
      "text/plain": [
       "<Figure size 640x480 with 1 Axes>"
      ]
     },
     "metadata": {},
     "output_type": "display_data"
    }
   ],
   "source": [
    "plt.plot(losses)"
   ]
  },
  {
   "cell_type": "code",
   "execution_count": 15,
   "metadata": {},
   "outputs": [
    {
     "name": "stdout",
     "output_type": "stream",
     "text": [
      "train 1.5319740772247314\n",
      "val 1.6005984544754028\n"
     ]
    }
   ],
   "source": [
    "@torch.no_grad()\n",
    "def split_loss(split):\n",
    "    x,y = {\n",
    "        'train': (Xtr, Ytr),\n",
    "        'val' : (Xdev, Ydev),\n",
    "        'test' : (Xte, Yte),\n",
    "    }[split]\n",
    "    emb = Cntx[x]\n",
    "    embcat = emb.view(emb.shape[0], -1)\n",
    "    hpreact_1 = (embcat @ W1) + B1\n",
    "    \n",
    "    h_1 = torch.tanh(hpreact_1)\n",
    "    hpreact_2 = (h_1 @ W2) + B2\n",
    "    h_2 = torch.tanh(hpreact_2)\n",
    "    \n",
    "    logits = (h_2 @ W3) + B3\n",
    "    loss = F.cross_entropy(logits, y)\n",
    "    print(split, loss.item())\n",
    "    \n",
    "split_loss('train')\n",
    "split_loss('val')"
   ]
  },
  {
   "cell_type": "code",
   "execution_count": 16,
   "metadata": {},
   "outputs": [
    {
     "data": {
      "text/plain": [
       "(array([  1.,   2.,   3.,   1.,   5.,   5.,  15.,  16.,  10.,  21.,  44.,\n",
       "         44.,  73.,  86.,  98., 188., 221., 230., 302., 308., 310., 405.,\n",
       "        432., 372., 284., 430., 467., 343., 330., 279., 253., 214., 150.,\n",
       "        122.,  82.,  88.,  64.,  32.,  25.,  22.,  11.,   2.,   3.,   2.,\n",
       "          1.,   3.,   0.,   0.,   0.,   1.]),\n",
       " array([-30.27515984, -29.02558262, -27.7760054 , -26.52642818,\n",
       "        -25.27685097, -24.02727375, -22.77769653, -21.52811932,\n",
       "        -20.2785421 , -19.02896488, -17.77938766, -16.52981045,\n",
       "        -15.28023323, -14.03065601, -12.7810788 , -11.53150158,\n",
       "        -10.28192436,  -9.03234715,  -7.78276993,  -6.53319271,\n",
       "         -5.28361549,  -4.03403828,  -2.78446106,  -1.53488384,\n",
       "         -0.28530663,   0.96427059,   2.21384781,   3.46342503,\n",
       "          4.71300224,   5.96257946,   7.21215668,   8.46173389,\n",
       "          9.71131111,  10.96088833,  12.21046555,  13.46004276,\n",
       "         14.70961998,  15.9591972 ,  17.20877441,  18.45835163,\n",
       "         19.70792885,  20.95750607,  22.20708328,  23.4566605 ,\n",
       "         24.70623772,  25.95581493,  27.20539215,  28.45496937,\n",
       "         29.70454659,  30.9541238 ,  32.20370102]),\n",
       " <BarContainer object of 50 artists>)"
      ]
     },
     "execution_count": 16,
     "metadata": {},
     "output_type": "execute_result"
    },
    {
     "data": {
      "image/png": "[encoded data removed]",
      "text/plain": [
       "<Figure size 640x480 with 1 Axes>"
      ]
     },
     "metadata": {},
     "output_type": "display_data"
    }
   ],
   "source": [
    "plt.hist(hpreact_1.view(-1).tolist(), 50)"
   ]
  },
  {
   "cell_type": "code",
   "execution_count": 17,
   "metadata": {},
   "outputs": [
    {
     "data": {
      "text/plain": [
       "(array([2.650e+03, 1.390e+02, 9.600e+01, 5.800e+01, 4.400e+01, 3.300e+01,\n",
       "        1.600e+01, 1.800e+01, 2.100e+01, 1.700e+01, 9.000e+00, 1.500e+01,\n",
       "        1.100e+01, 1.400e+01, 1.300e+01, 1.200e+01, 1.500e+01, 9.000e+00,\n",
       "        7.000e+00, 1.300e+01, 6.000e+00, 8.000e+00, 5.000e+00, 8.000e+00,\n",
       "        1.000e+00, 8.000e+00, 7.000e+00, 9.000e+00, 9.000e+00, 6.000e+00,\n",
       "        9.000e+00, 9.000e+00, 6.000e+00, 6.000e+00, 6.000e+00, 1.100e+01,\n",
       "        1.000e+01, 2.100e+01, 1.000e+01, 1.800e+01, 1.600e+01, 1.900e+01,\n",
       "        3.800e+01, 2.700e+01, 3.100e+01, 4.300e+01, 5.700e+01, 7.300e+01,\n",
       "        1.260e+02, 2.587e+03]),\n",
       " array([-1.  , -0.96, -0.92, -0.88, -0.84, -0.8 , -0.76, -0.72, -0.68,\n",
       "        -0.64, -0.6 , -0.56, -0.52, -0.48, -0.44, -0.4 , -0.36, -0.32,\n",
       "        -0.28, -0.24, -0.2 , -0.16, -0.12, -0.08, -0.04,  0.  ,  0.04,\n",
       "         0.08,  0.12,  0.16,  0.2 ,  0.24,  0.28,  0.32,  0.36,  0.4 ,\n",
       "         0.44,  0.48,  0.52,  0.56,  0.6 ,  0.64,  0.68,  0.72,  0.76,\n",
       "         0.8 ,  0.84,  0.88,  0.92,  0.96,  1.  ]),\n",
       " <BarContainer object of 50 artists>)"
      ]
     },
     "execution_count": 17,
     "metadata": {},
     "output_type": "execute_result"
    },
    {
     "data": {
      "image/png": "[encoded data removed]",
      "text/plain": [
       "<Figure size 640x480 with 1 Axes>"
      ]
     },
     "metadata": {},
     "output_type": "display_data"
    }
   ],
   "source": [
    "plt.hist(h_1.view(-1).tolist(), 50)"
   ]
  },
  {
   "cell_type": "code",
   "execution_count": 18,
   "metadata": {},
   "outputs": [
    {
     "data": {
      "text/plain": [
       "(array([  1.,   0.,   0.,   6.,   1.,   1.,   2.,  16.,   2.,  12.,  31.,\n",
       "         27.,  33.,  60.,  84., 113., 157., 186., 258., 288., 342., 445.,\n",
       "        476., 587., 610., 744., 391., 633., 644., 565., 521., 483., 392.,\n",
       "        315., 290., 233., 178., 143.,  92.,  79.,  51.,  47.,  35.,   9.,\n",
       "          9.,   3.,   3.,   0.,   1.,   1.]),\n",
       " array([-60.64214325, -58.37497261, -56.10780197, -53.84063133,\n",
       "        -51.57346069, -49.30629005, -47.03911942, -44.77194878,\n",
       "        -42.50477814, -40.2376075 , -37.97043686, -35.70326622,\n",
       "        -33.43609558, -31.16892494, -28.9017543 , -26.63458366,\n",
       "        -24.36741302, -22.10024239, -19.83307175, -17.56590111,\n",
       "        -15.29873047, -13.03155983, -10.76438919,  -8.49721855,\n",
       "         -6.23004791,  -3.96287727,  -1.69570663,   0.571464  ,\n",
       "          2.83863464,   5.10580528,   7.37297592,   9.64014656,\n",
       "         11.9073172 ,  14.17448784,  16.44165848,  18.70882912,\n",
       "         20.97599976,  23.24317039,  25.51034103,  27.77751167,\n",
       "         30.04468231,  32.31185295,  34.57902359,  36.84619423,\n",
       "         39.11336487,  41.38053551,  43.64770615,  45.91487679,\n",
       "         48.18204742,  50.44921806,  52.7163887 ]),\n",
       " <BarContainer object of 50 artists>)"
      ]
     },
     "execution_count": 18,
     "metadata": {},
     "output_type": "execute_result"
    },
    {
     "data": {
      "image/png": "[encoded data removed]",
      "text/plain": [
       "<Figure size 640x480 with 1 Axes>"
      ]
     },
     "metadata": {},
     "output_type": "display_data"
    }
   ],
   "source": [
    "plt.hist(hpreact_2.view(-1).tolist(), 50)"
   ]
  },
  {
   "cell_type": "code",
   "execution_count": 19,
   "metadata": {},
   "outputs": [
    {
     "data": {
      "text/plain": [
       "(array([4.417e+03, 9.600e+01, 5.200e+01, 3.500e+01, 1.700e+01, 1.800e+01,\n",
       "        1.600e+01, 1.100e+01, 1.200e+01, 9.000e+00, 1.000e+01, 1.200e+01,\n",
       "        7.000e+00, 1.000e+01, 8.000e+00, 4.000e+00, 1.000e+01, 7.000e+00,\n",
       "        7.000e+00, 9.000e+00, 1.100e+01, 6.000e+00, 3.000e+00, 2.000e+00,\n",
       "        3.000e+00, 3.000e+00, 8.000e+00, 4.000e+00, 5.000e+00, 9.000e+00,\n",
       "        3.000e+00, 5.000e+00, 7.000e+00, 5.000e+00, 6.000e+00, 8.000e+00,\n",
       "        7.000e+00, 1.100e+01, 1.300e+01, 9.000e+00, 1.400e+01, 1.600e+01,\n",
       "        1.800e+01, 1.600e+01, 1.500e+01, 2.400e+01, 2.600e+01, 3.100e+01,\n",
       "        1.180e+02, 4.427e+03]),\n",
       " array([-1.  , -0.96, -0.92, -0.88, -0.84, -0.8 , -0.76, -0.72, -0.68,\n",
       "        -0.64, -0.6 , -0.56, -0.52, -0.48, -0.44, -0.4 , -0.36, -0.32,\n",
       "        -0.28, -0.24, -0.2 , -0.16, -0.12, -0.08, -0.04,  0.  ,  0.04,\n",
       "         0.08,  0.12,  0.16,  0.2 ,  0.24,  0.28,  0.32,  0.36,  0.4 ,\n",
       "         0.44,  0.48,  0.52,  0.56,  0.6 ,  0.64,  0.68,  0.72,  0.76,\n",
       "         0.8 ,  0.84,  0.88,  0.92,  0.96,  1.  ]),\n",
       " <BarContainer object of 50 artists>)"
      ]
     },
     "execution_count": 19,
     "metadata": {},
     "output_type": "execute_result"
    },
    {
     "data": {
      "image/png": "[encoded data removed]",
      "text/plain": [
       "<Figure size 640x480 with 1 Axes>"
      ]
     },
     "metadata": {},
     "output_type": "display_data"
    }
   ],
   "source": [
    "plt.hist(h_2.view(-1).tolist(), 50)"
   ]
  },
  {
   "cell_type": "markdown",
   "metadata": {},
   "source": [
    "##### when the most of the hidden layer activation values are nearly equals to 1 or -1 the gradient values during the backpropagation will be nearly zeo. It's because the self.grad = (1-t**2)*out.grad\n",
    "\n",
    "##### So the change in the input won't  impack the loss very much. This is a undesired condition in a  neural network"
   ]
  },
  {
   "cell_type": "markdown",
   "metadata": {},
   "source": [
    "## properly initializing the hidden layer parameters "
   ]
  },
  {
   "cell_type": "code",
   "execution_count": 20,
   "metadata": {},
   "outputs": [
    {
     "name": "stdout",
     "output_type": "stream",
     "text": [
      "number of parameters : 90758\n"
     ]
    }
   ],
   "source": [
    "n_embd = 10\n",
    "n_hidden_1 = 200\n",
    "n_hidden_2 = 300\n",
    "\n",
    "# parameters\n",
    "gen = torch.Generator().manual_seed(2147483647)\n",
    "Cntx = torch.randn((Vocab_size,n_embd), generator=gen)   \n",
    "W1 = torch.randn((n_embd*block_size, n_hidden_1), generator=gen) * 0.02\n",
    "B1 = torch.randn(n_hidden_1, generator=gen) * 0\n",
    "W2 = torch.randn((n_hidden_1, n_hidden_2), generator=gen) * 0.02\n",
    "B2 = torch.randn((n_hidden_2), generator=gen)*0\n",
    "W3 = torch.randn((n_hidden_2, Vocab_size), generator=gen) * 0.01\n",
    "B3 = torch.randn((Vocab_size), generator=gen) * 0\n",
    "\n",
    "parameters = [Cntx, W1, B1, W2, B2, W3, B3]\n",
    "print(f\"number of parameters : {sum(parameter.nelement() for parameter in parameters)}\")\n",
    "\n",
    "for p in parameters:\n",
    "    p.requires_grad = True"
   ]
  },
  {
   "cell_type": "code",
   "execution_count": 21,
   "metadata": {},
   "outputs": [
    {
     "name": "stdout",
     "output_type": "stream",
     "text": [
      "      0/ 200000: 4.3566\n",
      "  10000/ 200000: 1.6564\n",
      "  20000/ 200000: 1.2655\n",
      "  30000/ 200000: 1.5739\n",
      "  40000/ 200000: 1.2684\n",
      "  50000/ 200000: 1.3892\n",
      "  60000/ 200000: 1.9049\n",
      "  70000/ 200000: 1.7794\n",
      "  80000/ 200000: 1.4941\n",
      "  90000/ 200000: 2.1417\n",
      " 100000/ 200000: 1.2701\n",
      " 110000/ 200000: 1.5634\n",
      " 120000/ 200000: 1.4038\n",
      " 130000/ 200000: 1.6565\n",
      " 140000/ 200000: 2.1467\n",
      " 150000/ 200000: 1.7188\n",
      " 160000/ 200000: 1.5495\n",
      " 170000/ 200000: 1.4991\n",
      " 180000/ 200000: 1.7687\n",
      " 190000/ 200000: 1.3573\n"
     ]
    }
   ],
   "source": [
    "max_steps = 200000\n",
    "batch_size = 32\n",
    "losses = []\n",
    "\n",
    "\n",
    "for i in range(max_steps):\n",
    "    \n",
    "    idx = torch.randint(0, Xtr.shape[0], (batch_size,), generator=gen)\n",
    "    Xb , Yb = Xtr[idx], Ytr[idx]\n",
    "    \n",
    "    embd = Cntx[Xb]\n",
    "    embcat = embd.view(embd.shape[0], -1)\n",
    "    \n",
    "    # first layer\n",
    "    hpreact_1 = (embcat @ W1) + B1\n",
    "    \n",
    "    # second layer\n",
    "    h_1 = torch.tanh(hpreact_1)\n",
    "    hpreact_2 = (h_1 @ W2) + B2\n",
    "    h_2 = torch.tanh(hpreact_2)\n",
    "    \n",
    "    # third layer\n",
    "    logits = (h_2 @ W3) + B3\n",
    "    loss = F.cross_entropy(logits, Yb)\n",
    "    \n",
    "    for p in parameters:\n",
    "        p.grad = None\n",
    "        \n",
    "    loss.backward()\n",
    "    \n",
    "    lr = 0.1 if i<100000 else 0.01 # learning rate decay\n",
    "\n",
    "    # update parameters\n",
    "    for p in parameters:\n",
    "        p.data += -lr * p.grad\n",
    "        \n",
    "    if i % 10000 == 0:\n",
    "        print(f'{i:7d}/{max_steps:7d}: {loss.item():.4f}')\n",
    "        \n",
    "    losses.append(loss.log10().item())\n"
   ]
  },
  {
   "cell_type": "code",
   "execution_count": 30,
   "metadata": {},
   "outputs": [
    {
     "data": {
      "text/plain": [
       "[<matplotlib.lines.Line2D at 0x1dfc9737e90>]"
      ]
     },
     "execution_count": 30,
     "metadata": {},
     "output_type": "execute_result"
    },
    {
     "data": {
      "image/png": "[encoded data removed]",
      "text/plain": [
       "<Figure size 640x480 with 1 Axes>"
      ]
     },
     "metadata": {},
     "output_type": "display_data"
    }
   ],
   "source": [
    "plt.plot(losses)"
   ]
  },
  {
   "cell_type": "code",
   "execution_count": 31,
   "metadata": {},
   "outputs": [
    {
     "name": "stdout",
     "output_type": "stream",
     "text": [
      "train 4.3577446937561035\n",
      "val 4.357095718383789\n"
     ]
    }
   ],
   "source": [
    "@torch.no_grad()\n",
    "def split_loss(split):\n",
    "    x,y = {\n",
    "        'train': (Xtr, Ytr),\n",
    "        'val' : (Xdev, Ydev),\n",
    "        'test' : (Xte, Yte),\n",
    "    }[split]\n",
    "    emb = Cntx[x]\n",
    "    embcat = emb.view(emb.shape[0], -1)\n",
    "    hpreact_1 = (embcat @ W1) + B1\n",
    "    \n",
    "    h_1 = torch.tanh(hpreact_1)\n",
    "    hpreact_2 = (h_1 @ W2) + B2\n",
    "    h_2 = torch.tanh(hpreact_2)\n",
    "    \n",
    "    logits = (h_2 @ W3) + B3\n",
    "    loss = F.cross_entropy(logits, y)\n",
    "    print(split, loss.item())\n",
    "    \n",
    "split_loss('train')\n",
    "split_loss('val')"
   ]
  },
  {
   "cell_type": "code",
   "execution_count": 32,
   "metadata": {},
   "outputs": [
    {
     "data": {
      "text/plain": [
       "(array([  5.,   3.,  10.,   4.,  11.,  13.,  21.,  35.,  43.,  32.,  53.,\n",
       "        102.,  84., 113., 122., 155., 197., 250., 287., 292., 379., 391.,\n",
       "        371., 359., 396., 396., 375., 324., 256., 229., 211., 187., 142.,\n",
       "        146., 102.,  89.,  57.,  56.,  37.,  22.,  14.,   9.,   6.,   7.,\n",
       "          1.,   3.,   0.,   0.,   0.,   3.]),\n",
       " array([-10.53846741, -10.09556797,  -9.65266853,  -9.2097691 ,\n",
       "         -8.76686966,  -8.32397022,  -7.88107079,  -7.43817135,\n",
       "         -6.99527191,  -6.55237247,  -6.10947304,  -5.6665736 ,\n",
       "         -5.22367416,  -4.78077473,  -4.33787529,  -3.89497585,\n",
       "         -3.45207642,  -3.00917698,  -2.56627754,  -2.12337811,\n",
       "         -1.68047867,  -1.23757923,  -0.79467979,  -0.35178036,\n",
       "          0.09111908,   0.53401852,   0.97691795,   1.41981739,\n",
       "          1.86271683,   2.30561626,   2.7485157 ,   3.19141514,\n",
       "          3.63431458,   4.07721401,   4.52011345,   4.96301289,\n",
       "          5.40591232,   5.84881176,   6.2917112 ,   6.73461063,\n",
       "          7.17751007,   7.62040951,   8.06330894,   8.50620838,\n",
       "          8.94910782,   9.39200726,   9.83490669,  10.27780613,\n",
       "         10.72070557,  11.163605  ,  11.60650444]),\n",
       " <BarContainer object of 50 artists>)"
      ]
     },
     "execution_count": 32,
     "metadata": {},
     "output_type": "execute_result"
    },
    {
     "data": {
      "image/png": "[encoded data removed]",
      "text/plain": [
       "<Figure size 640x480 with 1 Axes>"
      ]
     },
     "metadata": {},
     "output_type": "display_data"
    }
   ],
   "source": [
    "plt.hist(hpreact_1.view(-1).tolist(), 50)"
   ]
  },
  {
   "cell_type": "code",
   "execution_count": 33,
   "metadata": {},
   "outputs": [
    {
     "data": {
      "text/plain": [
       "(array([1652.,  246.,  169.,  175.,   95.,   80.,   98.,   54.,   49.,\n",
       "          71.,   43.,   39.,   57.,   62.,   26.,   32.,   45.,   43.,\n",
       "          29.,   34.,   21.,   26.,   47.,   38.,   22.,   43.,   33.,\n",
       "          43.,   39.,   40.,   43.,   38.,   28.,   38.,   47.,   41.,\n",
       "          35.,   34.,   40.,   66.,   82.,   71.,   57.,   68.,   93.,\n",
       "         111.,  121.,  160.,  252., 1524.]),\n",
       " array([-1.  , -0.96, -0.92, -0.88, -0.84, -0.8 , -0.76, -0.72, -0.68,\n",
       "        -0.64, -0.6 , -0.56, -0.52, -0.48, -0.44, -0.4 , -0.36, -0.32,\n",
       "        -0.28, -0.24, -0.2 , -0.16, -0.12, -0.08, -0.04,  0.  ,  0.04,\n",
       "         0.08,  0.12,  0.16,  0.2 ,  0.24,  0.28,  0.32,  0.36,  0.4 ,\n",
       "         0.44,  0.48,  0.52,  0.56,  0.6 ,  0.64,  0.68,  0.72,  0.76,\n",
       "         0.8 ,  0.84,  0.88,  0.92,  0.96,  1.  ]),\n",
       " <BarContainer object of 50 artists>)"
      ]
     },
     "execution_count": 33,
     "metadata": {},
     "output_type": "execute_result"
    },
    {
     "data": {
      "image/png": "[encoded data removed]",
      "text/plain": [
       "<Figure size 640x480 with 1 Axes>"
      ]
     },
     "metadata": {},
     "output_type": "display_data"
    }
   ],
   "source": [
    "plt.hist(h_1.view(-1).tolist(), 50)"
   ]
  },
  {
   "cell_type": "code",
   "execution_count": 34,
   "metadata": {},
   "outputs": [
    {
     "data": {
      "text/plain": [
       "(array([   2.,    2.,    0.,    0.,    0.,    0.,    4.,   10.,    9.,\n",
       "          11.,   24.,   39.,   46.,   51.,   56.,   90.,  107.,  148.,\n",
       "         187.,  232.,  256.,  345.,  452.,  610.,  581.,  688., 1634.,\n",
       "         693.,  598.,  664.,  529.,  334.,  253.,  214.,  140.,  150.,\n",
       "         116.,   82.,   66.,   49.,   40.,   18.,   14.,   14.,    9.,\n",
       "          12.,    7.,   10.,    2.,    2.]),\n",
       " array([-15.5797596 , -14.99096624, -14.40217289, -13.81337954,\n",
       "        -13.22458618, -12.63579283, -12.04699947, -11.45820612,\n",
       "        -10.86941277, -10.28061941,  -9.69182606,  -9.1030327 ,\n",
       "         -8.51423935,  -7.925446  ,  -7.33665264,  -6.74785929,\n",
       "         -6.15906593,  -5.57027258,  -4.98147923,  -4.39268587,\n",
       "         -3.80389252,  -3.21509916,  -2.62630581,  -2.03751245,\n",
       "         -1.4487191 ,  -0.85992575,  -0.27113239,   0.31766096,\n",
       "          0.90645432,   1.49524767,   2.08404102,   2.67283438,\n",
       "          3.26162773,   3.85042109,   4.43921444,   5.02800779,\n",
       "          5.61680115,   6.2055945 ,   6.79438786,   7.38318121,\n",
       "          7.97197456,   8.56076792,   9.14956127,   9.73835463,\n",
       "         10.32714798,  10.91594133,  11.50473469,  12.09352804,\n",
       "         12.6823214 ,  13.27111475,  13.8599081 ]),\n",
       " <BarContainer object of 50 artists>)"
      ]
     },
     "execution_count": 34,
     "metadata": {},
     "output_type": "execute_result"
    },
    {
     "data": {
      "image/png": "[encoded data removed]",
      "text/plain": [
       "<Figure size 640x480 with 1 Axes>"
      ]
     },
     "metadata": {},
     "output_type": "display_data"
    }
   ],
   "source": [
    "plt.hist(hpreact_2.view(-1).tolist(), 50)"
   ]
  },
  {
   "cell_type": "code",
   "execution_count": 35,
   "metadata": {},
   "outputs": [
    {
     "data": {
      "text/plain": [
       "(array([2164.,  395.,  184.,  134.,  123.,  117.,   79.,   94.,   84.,\n",
       "          86.,   68.,   69.,   58.,   56.,   60.,   51.,   41.,   62.,\n",
       "          71.,   69.,   74.,   83.,   88.,  174.,  212.,  289.,  138.,\n",
       "         109.,   91.,   65.,   61.,   91.,   57.,   64.,   55.,   48.,\n",
       "          61.,   70.,   81.,   69.,   66.,   77.,   89.,   95.,   98.,\n",
       "         120.,  154.,  244.,  358., 2254.]),\n",
       " array([-1.  , -0.96, -0.92, -0.88, -0.84, -0.8 , -0.76, -0.72, -0.68,\n",
       "        -0.64, -0.6 , -0.56, -0.52, -0.48, -0.44, -0.4 , -0.36, -0.32,\n",
       "        -0.28, -0.24, -0.2 , -0.16, -0.12, -0.08, -0.04,  0.  ,  0.04,\n",
       "         0.08,  0.12,  0.16,  0.2 ,  0.24,  0.28,  0.32,  0.36,  0.4 ,\n",
       "         0.44,  0.48,  0.52,  0.56,  0.6 ,  0.64,  0.68,  0.72,  0.76,\n",
       "         0.8 ,  0.84,  0.88,  0.92,  0.96,  1.  ]),\n",
       " <BarContainer object of 50 artists>)"
      ]
     },
     "execution_count": 35,
     "metadata": {},
     "output_type": "execute_result"
    },
    {
     "data": {
      "image/png": "[encoded data removed]",
      "text/plain": [
       "<Figure size 640x480 with 1 Axes>"
      ]
     },
     "metadata": {},
     "output_type": "display_data"
    }
   ],
   "source": [
    "plt.hist(h_2.view(-1).tolist(), 50)"
   ]
  },
  {
   "cell_type": "markdown",
   "metadata": {},
   "source": [
    "### Setting Initialization scales"
   ]
  },
  {
   "cell_type": "markdown",
   "metadata": {},
   "source": [
    "##### because of tanh squashing the output values inbetween 1, -1 then this contracts the activation values. To reduce these contraction at the same time to boost these values we need to multiply py a gain value. Here it is 5/3"
   ]
  },
  {
   "cell_type": "markdown",
   "metadata": {},
   "source": [
    "#### By this kaiming initialization we change the standard deviation of the weights"
   ]
  },
  {
   "cell_type": "code",
   "execution_count": 27,
   "metadata": {},
   "outputs": [
    {
     "name": "stdout",
     "output_type": "stream",
     "text": [
      "number of parameters : 90758\n"
     ]
    }
   ],
   "source": [
    "n_embd = 10\n",
    "n_hidden_1 = 200\n",
    "n_hidden_2 = 300\n",
    "\n",
    "# parameters\n",
    "gen = torch.Generator().manual_seed(2147483647)\n",
    "Cntx = torch.randn((Vocab_size,n_embd), generator=gen)   \n",
    "W1 = torch.randn((n_embd*block_size, n_hidden_1), generator=gen) * (5/3) / ((block_size* n_embd)**0.5)\n",
    "B1 = torch.randn(n_hidden_1, generator=gen) * 0.01\n",
    "W2 = torch.randn((n_hidden_1, n_hidden_2), generator=gen) * (5/3) / ((n_hidden_1)**0.5)\n",
    "B2 = torch.randn((n_hidden_2), generator=gen) * 0.01\n",
    "W3 = torch.randn((n_hidden_2, Vocab_size), generator=gen) * 0.01\n",
    "B3 = torch.randn((Vocab_size), generator=gen) * 0\n",
    "\n",
    "parameters = [Cntx, W1, B1, W2, B2, W3, B3]\n",
    "print(f\"number of parameters : {sum(parameter.nelement() for parameter in parameters)}\")\n",
    "\n",
    "for p in parameters:\n",
    "    p.requires_grad = True"
   ]
  },
  {
   "cell_type": "code",
   "execution_count": 28,
   "metadata": {},
   "outputs": [
    {
     "name": "stdout",
     "output_type": "stream",
     "text": [
      "      0/ 200000: 4.3780\n",
      "  10000/ 200000: 1.6345\n",
      "  20000/ 200000: 1.2310\n",
      "  30000/ 200000: 1.6192\n",
      "  40000/ 200000: 1.2964\n",
      "  50000/ 200000: 1.3410\n",
      "  60000/ 200000: 1.9257\n",
      "  70000/ 200000: 1.8269\n",
      "  80000/ 200000: 1.6366\n",
      "  90000/ 200000: 2.0702\n",
      " 100000/ 200000: 1.2807\n",
      " 110000/ 200000: 1.5675\n",
      " 120000/ 200000: 1.4011\n",
      " 130000/ 200000: 1.6261\n",
      " 140000/ 200000: 2.1594\n",
      " 150000/ 200000: 1.7542\n",
      " 160000/ 200000: 1.5578\n",
      " 170000/ 200000: 1.4991\n",
      " 180000/ 200000: 1.8129\n",
      " 190000/ 200000: 1.2400\n"
     ]
    }
   ],
   "source": [
    "max_steps = 200000\n",
    "batch_size = 32\n",
    "losses = []\n",
    "\n",
    "\n",
    "for i in range(max_steps):\n",
    "    \n",
    "    idx = torch.randint(0, Xtr.shape[0], (batch_size,), generator=gen)\n",
    "    Xb , Yb = Xtr[idx], Ytr[idx]\n",
    "    \n",
    "    embd = Cntx[Xb]\n",
    "    embcat = embd.view(embd.shape[0], -1)\n",
    "    \n",
    "    # first layer\n",
    "    hpreact_1 = (embcat @ W1) + B1\n",
    "    \n",
    "    # second layer\n",
    "    h_1 = torch.tanh(hpreact_1)\n",
    "    hpreact_2 = (h_1 @ W2) + B2\n",
    "    h_2 = torch.tanh(hpreact_2)\n",
    "    \n",
    "    # third layer\n",
    "    logits = (h_2 @ W3) + B3\n",
    "    loss = F.cross_entropy(logits, Yb)\n",
    "    \n",
    "    for p in parameters:\n",
    "        p.grad = None\n",
    "        \n",
    "    loss.backward()\n",
    "    \n",
    "    lr = 0.1 if i<100000 else 0.01 # learning rate decay\n",
    "\n",
    "    # update parameters\n",
    "    for p in parameters:\n",
    "        p.data += -lr * p.grad\n",
    "        \n",
    "    if i % 10000 == 0:\n",
    "        print(f'{i:7d}/{max_steps:7d}: {loss.item():.4f}')\n",
    "        \n",
    "    losses.append(loss.log10().item())\n"
   ]
  },
  {
   "cell_type": "code",
   "execution_count": 36,
   "metadata": {},
   "outputs": [
    {
     "data": {
      "text/plain": [
       "[<matplotlib.lines.Line2D at 0x1dfd53e6690>]"
      ]
     },
     "execution_count": 36,
     "metadata": {},
     "output_type": "execute_result"
    },
    {
     "data": {
      "image/png": "[encoded data removed]",
      "text/plain": [
       "<Figure size 640x480 with 1 Axes>"
      ]
     },
     "metadata": {},
     "output_type": "display_data"
    }
   ],
   "source": [
    "plt.plot(losses)"
   ]
  },
  {
   "cell_type": "code",
   "execution_count": 37,
   "metadata": {},
   "outputs": [
    {
     "name": "stdout",
     "output_type": "stream",
     "text": [
      "train 4.3577446937561035\n",
      "val 4.357095718383789\n"
     ]
    }
   ],
   "source": [
    "@torch.no_grad()\n",
    "def split_loss(split):\n",
    "    x,y = {\n",
    "        'train': (Xtr, Ytr),\n",
    "        'val' : (Xdev, Ydev),\n",
    "        'test' : (Xte, Yte),\n",
    "    }[split]\n",
    "    emb = Cntx[x]\n",
    "    embcat = emb.view(emb.shape[0], -1)\n",
    "    hpreact_1 = (embcat @ W1) + B1\n",
    "    \n",
    "    h_1 = torch.tanh(hpreact_1)\n",
    "    hpreact_2 = (h_1 @ W2) + B2\n",
    "    h_2 = torch.tanh(hpreact_2)\n",
    "    \n",
    "    logits = (h_2 @ W3) + B3\n",
    "    loss = F.cross_entropy(logits, y)\n",
    "    print(split, loss.item())\n",
    "    \n",
    "split_loss('train')\n",
    "split_loss('val')"
   ]
  },
  {
   "cell_type": "markdown",
   "metadata": {},
   "source": [
    "#### If the hidden layer output values are too small numbers(pre-activation values) then the tanh here will be kind of inactive also if these are very large numbers then the tanh will be saturated then there is no learning. So we need to keep them roughly gaussion"
   ]
  },
  {
   "cell_type": "markdown",
   "metadata": {},
   "source": [
    "## Batch normalization"
   ]
  },
  {
   "cell_type": "markdown",
   "metadata": {},
   "source": [
    "#### we would like to initialize these valuese gaussion only during the initialization. After that it should follow it's own path."
   ]
  },
  {
   "cell_type": "markdown",
   "metadata": {},
   "source": [
    "##### To achieve that we are going to use gain and bias values. Initially gain is defined as all ones and bias will be defined as all zeros. So this will maintain the initial pre activation vallues to be unit gaussian. After that during training these values will be changed and the distribution can changed according to the learning so there won't be any blocker"
   ]
  },
  {
   "cell_type": "code",
   "execution_count": 40,
   "metadata": {},
   "outputs": [
    {
     "name": "stdout",
     "output_type": "stream",
     "text": [
      "number of parameters : 91758\n"
     ]
    }
   ],
   "source": [
    "n_embd = 10\n",
    "n_hidden_1 = 200\n",
    "n_hidden_2 = 300\n",
    "\n",
    "# parameters\n",
    "gen = torch.Generator().manual_seed(2147483647)\n",
    "Cntx = torch.randn((Vocab_size,n_embd), generator=gen)   \n",
    "W1 = torch.randn((n_embd*block_size, n_hidden_1), generator=gen) * (5/3) / ((block_size* n_embd)**0.5)\n",
    "B1 = torch.randn(n_hidden_1, generator=gen) * 0.01\n",
    "W2 = torch.randn((n_hidden_1, n_hidden_2), generator=gen) * (5/3) / ((n_hidden_1)**0.5)\n",
    "B2 = torch.randn((n_hidden_2), generator=gen) * 0.01\n",
    "W3 = torch.randn((n_hidden_2, Vocab_size), generator=gen) * 0.01\n",
    "B3 = torch.randn((Vocab_size), generator=gen) * 0\n",
    "\n",
    "bngain1, bnbias1 = torch.ones(1, n_hidden_1), torch.zeros(1, n_hidden_1)\n",
    "bngain2, bnbias2 = torch.ones(1, n_hidden_2), torch.zeros(1, n_hidden_2)\n",
    "\n",
    "bnmean_running1, bnstd_running1 = torch.zeros(1, n_hidden_1), torch.ones(1, n_hidden_1)\n",
    "bnmean_running2, bnstd_running2 = torch.zeros(1, n_hidden_2), torch.ones(1, n_hidden_2)\n",
    "\n",
    "parameters = [Cntx, W1, B1, W2, B2, W3, B3, bngain1, bnbias1, bngain2, bnbias2]\n",
    "print(f\"number of parameters : {sum(parameter.nelement() for parameter in parameters)}\")\n",
    "\n",
    "for p in parameters:\n",
    "    p.requires_grad = True"
   ]
  },
  {
   "cell_type": "code",
   "execution_count": 41,
   "metadata": {},
   "outputs": [
    {
     "name": "stdout",
     "output_type": "stream",
     "text": [
      "      0/ 200000: 4.3512\n",
      "  10000/ 200000: 1.6953\n",
      "  20000/ 200000: 1.2772\n",
      "  30000/ 200000: 1.6475\n",
      "  40000/ 200000: 1.5404\n",
      "  50000/ 200000: 1.4788\n",
      "  60000/ 200000: 1.8013\n",
      "  70000/ 200000: 1.8747\n",
      "  80000/ 200000: 1.6532\n",
      "  90000/ 200000: 2.1340\n",
      " 100000/ 200000: 1.2714\n",
      " 110000/ 200000: 1.6164\n",
      " 120000/ 200000: 1.4249\n",
      " 130000/ 200000: 1.6969\n",
      " 140000/ 200000: 2.2533\n",
      " 150000/ 200000: 1.8407\n",
      " 160000/ 200000: 1.5683\n",
      " 170000/ 200000: 1.5780\n",
      " 180000/ 200000: 1.9131\n",
      " 190000/ 200000: 1.5548\n"
     ]
    }
   ],
   "source": [
    "max_steps = 200000\n",
    "batch_size = 32\n",
    "losses = []\n",
    "\n",
    "\n",
    "for i in range(max_steps):\n",
    "    \n",
    "    idx = torch.randint(0, Xtr.shape[0], (batch_size,), generator=gen)\n",
    "    Xb , Yb = Xtr[idx], Ytr[idx]\n",
    "    \n",
    "    embd = Cntx[Xb]\n",
    "    embcat = embd.view(embd.shape[0], -1)\n",
    "    \n",
    "    # first layer\n",
    "    hpreact_1 = (embcat @ W1) + B1\n",
    "    \n",
    "    bnmean1i = hpreact_1.mean(0, keepdim=True)\n",
    "    bnstd1i = hpreact_1.std(0, keepdim=True)\n",
    "    \n",
    "    # batch normalization\n",
    "    hpreact_1 = bngain1 * (hpreact_1 - bnmean1i)/(bnstd1i) + bnbias1\n",
    "    h_1 = torch.tanh(hpreact_1)\n",
    "    \n",
    "    # second layer\n",
    "    hpreact_2 = (h_1 @ W2) + B2\n",
    "    \n",
    "    bnmean2i = hpreact_2.mean(0, keepdim=True)\n",
    "    bnstd2i = hpreact_2.std(0, keepdim=True)\n",
    "    \n",
    "    # batch normalization\n",
    "    hpreact_2 = bngain2 * (hpreact_2 - bnmean2i)/(bnstd2i) + bnbias2\n",
    "    \n",
    "    \n",
    "    h_2 = torch.tanh(hpreact_2)\n",
    "    \n",
    "    with torch.no_grad():\n",
    "        bnmean_running1 =(0.999 * bnmean_running1)  + (0.001 * bnmean1i)\n",
    "        bnstd_running1 = (0.999 * bnstd_running1)  + (0.001 * bnstd1i)\n",
    "        \n",
    "        bnmean_running2 =(0.999 * bnmean_running2)  + (0.001 * bnmean2i)\n",
    "        bnstd_running2 = (0.999 * bnstd_running2)  + (0.001 * bnstd2i)\n",
    "        \n",
    "    \n",
    "    # third layer\n",
    "    logits = (h_2 @ W3) + B3\n",
    "    loss = F.cross_entropy(logits, Yb)\n",
    "    \n",
    "    for p in parameters:\n",
    "        p.grad = None\n",
    "        \n",
    "    loss.backward()\n",
    "    \n",
    "    lr = 0.1 if i<100000 else 0.01 # learning rate decay\n",
    "\n",
    "    # update parameters\n",
    "    for p in parameters:\n",
    "        p.data += -lr * p.grad\n",
    "        \n",
    "    if i % 10000 == 0:\n",
    "        print(f'{i:7d}/{max_steps:7d}: {loss.item():.4f}')\n",
    "        \n",
    "    losses.append(loss.log10().item())\n"
   ]
  },
  {
   "cell_type": "code",
   "execution_count": 42,
   "metadata": {},
   "outputs": [
    {
     "data": {
      "text/plain": [
       "[<matplotlib.lines.Line2D at 0x1dfd624f410>]"
      ]
     },
     "execution_count": 42,
     "metadata": {},
     "output_type": "execute_result"
    },
    {
     "data": {
      "image/png": "[encoded data removed]",
      "text/plain": [
       "<Figure size 640x480 with 1 Axes>"
      ]
     },
     "metadata": {},
     "output_type": "display_data"
    }
   ],
   "source": [
    "plt.plot(losses)"
   ]
  },
  {
   "cell_type": "markdown",
   "metadata": {},
   "source": [
    "#### beacuse of the bnmean_running values are similar to bnmean values then the calibration after trainng is not necessary"
   ]
  },
  {
   "cell_type": "code",
   "execution_count": 43,
   "metadata": {},
   "outputs": [
    {
     "name": "stdout",
     "output_type": "stream",
     "text": [
      "train 1.5454806089401245\n",
      "val 1.5902222394943237\n"
     ]
    }
   ],
   "source": [
    "@torch.no_grad()\n",
    "def split_loss(split):\n",
    "    x,y = {\n",
    "        'train': (Xtr, Ytr),\n",
    "        'val' : (Xdev, Ydev),\n",
    "        'test' : (Xte, Yte),\n",
    "    }[split]\n",
    "    emb = Cntx[x]\n",
    "    embcat = emb.view(emb.shape[0], -1)\n",
    "    hpreact_1 = (embcat @ W1) + B1\n",
    "    hpreact_1 = bngain1 * (hpreact_1 - bnmean_running1)/bnstd_running1 + bnbias1\n",
    "    \n",
    "    h_1 = torch.tanh(hpreact_1)\n",
    "    hpreact_2 = (h_1 @ W2) + B2\n",
    "    hpreact_2 = bngain2 * (hpreact_2 - bnmean_running2)/bnstd_running2 + bnbias2\n",
    "    h_2 = torch.tanh(hpreact_2)\n",
    "    \n",
    "    logits = (h_2 @ W3) + B3\n",
    "    loss = F.cross_entropy(logits, y)\n",
    "    print(split, loss.item())\n",
    "    \n",
    "split_loss('train')\n",
    "split_loss('val')"
   ]
  },
  {
   "cell_type": "markdown",
   "metadata": {},
   "source": [
    "### Because of the batch normalization has a bias(bnbias) parameter so the B1 is redundant"
   ]
  },
  {
   "cell_type": "code",
   "execution_count": 48,
   "metadata": {},
   "outputs": [
    {
     "name": "stdout",
     "output_type": "stream",
     "text": [
      "number of parameters : 91258\n"
     ]
    }
   ],
   "source": [
    "n_embd = 10\n",
    "n_hidden_1 = 200\n",
    "n_hidden_2 = 300\n",
    "\n",
    "# parameters\n",
    "gen = torch.Generator().manual_seed(2147483647)\n",
    "Cntx = torch.randn((Vocab_size,n_embd), generator=gen)   \n",
    "W1 = torch.randn((n_embd*block_size, n_hidden_1), generator=gen) * (5/3) / ((block_size* n_embd)**0.5)\n",
    "# B1 = torch.randn(n_hidden_1, generator=gen) * 0.01\n",
    "W2 = torch.randn((n_hidden_1, n_hidden_2), generator=gen) * (5/3) / ((n_hidden_1)**0.5)\n",
    "# B2 = torch.randn((n_hidden_2), generator=gen) * 0.01\n",
    "W3 = torch.randn((n_hidden_2, Vocab_size), generator=gen) * 0.01\n",
    "B3 = torch.randn((Vocab_size), generator=gen) * 0\n",
    "\n",
    "bngain1, bnbias1 = torch.ones(1, n_hidden_1), torch.zeros(1, n_hidden_1)\n",
    "bngain2, bnbias2 = torch.ones(1, n_hidden_2), torch.zeros(1, n_hidden_2)\n",
    "\n",
    "bnmean_running1, bnstd_running1 = torch.zeros(1, n_hidden_1), torch.ones(1, n_hidden_1)\n",
    "bnmean_running2, bnstd_running2 = torch.zeros(1, n_hidden_2), torch.ones(1, n_hidden_2)\n",
    "\n",
    "parameters = [Cntx, W1, W2, W3, B3, bngain1, bnbias1, bngain2, bnbias2]\n",
    "print(f\"number of parameters : {sum(parameter.nelement() for parameter in parameters)}\")\n",
    "\n",
    "for p in parameters:\n",
    "    p.requires_grad = True"
   ]
  },
  {
   "cell_type": "code",
   "execution_count": 49,
   "metadata": {},
   "outputs": [
    {
     "name": "stdout",
     "output_type": "stream",
     "text": [
      "      0/ 200000: 4.3215\n",
      "  10000/ 200000: 1.6466\n",
      "  20000/ 200000: 1.8438\n",
      "  30000/ 200000: 1.0587\n",
      "  40000/ 200000: 1.4242\n",
      "  50000/ 200000: 1.3421\n",
      "  60000/ 200000: 1.5758\n",
      "  70000/ 200000: 1.3930\n",
      "  80000/ 200000: 1.9678\n",
      "  90000/ 200000: 1.2718\n",
      " 100000/ 200000: 1.8252\n",
      " 110000/ 200000: 1.5538\n",
      " 120000/ 200000: 1.9477\n",
      " 130000/ 200000: 1.7692\n",
      " 140000/ 200000: 2.0537\n",
      " 150000/ 200000: 1.6488\n",
      " 160000/ 200000: 1.8469\n",
      " 170000/ 200000: 1.4841\n",
      " 180000/ 200000: 1.4895\n",
      " 190000/ 200000: 1.5632\n"
     ]
    }
   ],
   "source": [
    "max_steps = 200000\n",
    "batch_size = 32\n",
    "losses = []\n",
    "\n",
    "\n",
    "for i in range(max_steps):\n",
    "    \n",
    "    idx = torch.randint(0, Xtr.shape[0], (batch_size,), generator=gen)\n",
    "    Xb , Yb = Xtr[idx], Ytr[idx]\n",
    "    \n",
    "    embd = Cntx[Xb]\n",
    "    embcat = embd.view(embd.shape[0], -1)\n",
    "    \n",
    "    # first layer\n",
    "    hpreact_1 = (embcat @ W1) \n",
    "    \n",
    "    bnmean1i = hpreact_1.mean(0, keepdim=True)\n",
    "    bnstd1i = hpreact_1.std(0, keepdim=True)\n",
    "    \n",
    "    # batch normalization\n",
    "    hpreact_1 = bngain1 * (hpreact_1 - bnmean1i)/(bnstd1i) + bnbias1\n",
    "    h_1 = torch.tanh(hpreact_1)\n",
    "    \n",
    "    # second layer\n",
    "    hpreact_2 = (h_1 @ W2)\n",
    "    \n",
    "    bnmean2i = hpreact_2.mean(0, keepdim=True)\n",
    "    bnstd2i = hpreact_2.std(0, keepdim=True)\n",
    "    \n",
    "    # batch normalization\n",
    "    hpreact_2 = bngain2 * (hpreact_2 - bnmean2i)/(bnstd2i) + bnbias2\n",
    "    \n",
    "    \n",
    "    h_2 = torch.tanh(hpreact_2)\n",
    "    \n",
    "    with torch.no_grad():\n",
    "        bnmean_running1 =(0.999 * bnmean_running1)  + (0.001 * bnmean1i)\n",
    "        bnstd_running1 = (0.999 * bnstd_running1)  + (0.001 * bnstd1i)\n",
    "        \n",
    "        bnmean_running2 =(0.999 * bnmean_running2)  + (0.001 * bnmean2i)\n",
    "        bnstd_running2 = (0.999 * bnstd_running2)  + (0.001 * bnstd2i)\n",
    "        \n",
    "    \n",
    "    # third layer\n",
    "    logits = (h_2 @ W3) + B3\n",
    "    loss = F.cross_entropy(logits, Yb)\n",
    "    \n",
    "    for p in parameters:\n",
    "        p.grad = None\n",
    "        \n",
    "    loss.backward()\n",
    "    \n",
    "    lr = 0.1 if i<100000 else 0.01 # learning rate decay\n",
    "\n",
    "    # update parameters\n",
    "    for p in parameters:\n",
    "        p.data += -lr * p.grad\n",
    "        \n",
    "    if i % 10000 == 0:\n",
    "        print(f'{i:7d}/{max_steps:7d}: {loss.item():.4f}')\n",
    "        \n",
    "    losses.append(loss.log10().item())\n"
   ]
  },
  {
   "cell_type": "code",
   "execution_count": 50,
   "metadata": {},
   "outputs": [
    {
     "data": {
      "text/plain": [
       "[<matplotlib.lines.Line2D at 0x1dfca15a150>]"
      ]
     },
     "execution_count": 50,
     "metadata": {},
     "output_type": "execute_result"
    },
    {
     "data": {
      "image/png": "[encoded data removed]",
      "text/plain": [
       "<Figure size 640x480 with 1 Axes>"
      ]
     },
     "metadata": {},
     "output_type": "display_data"
    }
   ],
   "source": [
    "plt.plot(losses)"
   ]
  },
  {
   "cell_type": "code",
   "execution_count": 51,
   "metadata": {},
   "outputs": [
    {
     "name": "stdout",
     "output_type": "stream",
     "text": [
      "train 1.5463429689407349\n",
      "val 1.5907131433486938\n"
     ]
    }
   ],
   "source": [
    "@torch.no_grad()\n",
    "def split_loss(split):\n",
    "    x,y = {\n",
    "        'train': (Xtr, Ytr),\n",
    "        'val' : (Xdev, Ydev),\n",
    "        'test' : (Xte, Yte),\n",
    "    }[split]\n",
    "    emb = Cntx[x]\n",
    "    embcat = emb.view(emb.shape[0], -1)\n",
    "    hpreact_1 = (embcat @ W1)\n",
    "    hpreact_1 = bngain1 * (hpreact_1 - bnmean_running1)/bnstd_running1 + bnbias1\n",
    "    \n",
    "    h_1 = torch.tanh(hpreact_1)\n",
    "    hpreact_2 = (h_1 @ W2)\n",
    "    hpreact_2 = bngain2 * (hpreact_2 - bnmean_running2)/bnstd_running2 + bnbias2\n",
    "    h_2 = torch.tanh(hpreact_2)\n",
    "    \n",
    "    logits = (h_2 @ W3) + B3\n",
    "    loss = F.cross_entropy(logits, y)\n",
    "    print(split, loss.item())\n",
    "    \n",
    "split_loss('train')\n",
    "split_loss('val')"
   ]
  },
  {
   "cell_type": "code",
   "execution_count": null,
   "metadata": {},
   "outputs": [],
   "source": []
  }
 ],
 "metadata": {
  "kernelspec": {
   "display_name": "base",
   "language": "python",
   "name": "python3"
  },
  "language_info": {
   "codemirror_mode": {
    "name": "ipython",
    "version": 3
   },
   "file_extension": ".py",
   "mimetype": "text/x-python",
   "name": "python",
   "nbconvert_exporter": "python",
   "pygments_lexer": "ipython3",
   "version": "3.11.7"
  }
 },
 "nbformat": 4,
 "nbformat_minor": 2
}
